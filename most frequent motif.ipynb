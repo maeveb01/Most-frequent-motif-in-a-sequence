{
 "cells": [
  {
   "cell_type": "markdown",
   "metadata": {},
   "source": [
    "# Script that reports the 10 most frequently occurring motifs of length 4 in a fasta seequence"
   ]
  },
  {
   "cell_type": "code",
   "execution_count": 17,
   "metadata": {},
   "outputs": [],
   "source": [
    "#set variables to use throughout the script\n",
    "#seq = 'GGGGTGCGATACCTTGCAGAAATCGAGGCCGTTCGTTAATTCCTGTTGCATTCGTACCGCCTATATTTGTCTCTTTGCCGGCTTATATGG'\n",
    "size = 4\n",
    "how_common = 10\n",
    "seqlen = 100 "
   ]
  },
  {
   "cell_type": "code",
   "execution_count": 18,
   "metadata": {},
   "outputs": [
    {
     "name": "stdout",
     "output_type": "stream",
     "text": [
      "AAGGAAAGCTTGATGTGCACCGACACCGTGGATCCCTTTATAGAAAGATCCTGTTCTTTAAATAGGTTATCAAATCCTCAGTGAACTCACCCCTGTACGT\n"
     ]
    }
   ],
   "source": [
    "#create random DNA sequence to gather motifs from \n",
    "\n",
    "#import choice feature from random function\n",
    "from random import choice\n",
    "\n",
    "#define bases to choose from\n",
    "bases = ('A', 'C', 'G', 'T')\n",
    "\n",
    "#initialise sequence string\n",
    "seq = ''\n",
    "\n",
    "#cycle through 100 times adding each random base to the sequence string\n",
    "for i in range(seqlen): \n",
    "    seq += choice(bases)\n",
    "print(seq)"
   ]
  },
  {
   "cell_type": "code",
   "execution_count": 13,
   "metadata": {},
   "outputs": [],
   "source": [
    "#function that counts creates list of motifs that slides one to the right every cycle and occurance of motifs in a sequence \n",
    "#stores frequencies and unique motifs in a dictionary \n",
    "\n",
    "def count_kmers(seq, size):\n",
    "    \n",
    "    # initialise empty dictionary to store motifs and frequencies in \n",
    "    frequencies = {}\n",
    "    \n",
    "    # Calculate how long sequence is to get kmers from\n",
    "    length = len(seq) - size + 1\n",
    "    \n",
    "    # cycle through kmer start positions for length of sequence\n",
    "    for i in range(length):\n",
    "        \n",
    "        # Slice the string to get kmers, moving one base to the right every cycle\n",
    "        motif = seq[i:i+size]\n",
    "        \n",
    "        # Add the kmer to the dictionary if it's not there already\n",
    "        #if motif not in frequencies:\n",
    "        #    frequencies[motif] = 0\n",
    "        \n",
    "        # Increment the count by 1 for the kmer\n",
    "        #frequencies[motif] += 1\n",
    "    \n",
    "        if motif in frequencies: \n",
    "            frequencies[motif] += 1\n",
    "        else: \n",
    "            frequencies[motif] = 1\n",
    "    \n",
    "    # Return the the dictionary into the main function \n",
    "    return frequencies"
   ]
  },
  {
   "cell_type": "code",
   "execution_count": 19,
   "metadata": {},
   "outputs": [
    {
     "name": "stdout",
     "output_type": "stream",
     "text": [
      "This script will find the 10 most frequent motifs of size 4 from the sequence \"AAGGAAAGCTTGATGTGCACCGACACCGTGGATCCCTTTATAGAAAGATCCTGTTCTTTAAATAGGTTATCAAATCCTCAGTGAACTCACCCCTGTACGT\"\n"
     ]
    }
   ],
   "source": [
    "print(f'This script will find the {how_common} most frequent motifs of size {size} from the sequence \"{seq}\"')"
   ]
  },
  {
   "cell_type": "code",
   "execution_count": 24,
   "metadata": {},
   "outputs": [],
   "source": [
    "#use function count_kmers to get kmers from the sequence defined at begining of length predefined\n",
    "occ = count_kmers(seq, size)"
   ]
  },
  {
   "cell_type": "code",
   "execution_count": 25,
   "metadata": {},
   "outputs": [
    {
     "name": "stdout",
     "output_type": "stream",
     "text": [
      "The motif CACC occurs 3 times in the sequence\n",
      "The motif ATCC occurs 3 times in the sequence\n",
      "The motif GAAA occurs 2 times in the sequence\n",
      "The motif AAAG occurs 2 times in the sequence\n",
      "The motif ACCG occurs 2 times in the sequence\n",
      "The motif GATC occurs 2 times in the sequence\n",
      "The motif CCCT occurs 2 times in the sequence\n",
      "The motif CTTT occurs 2 times in the sequence\n",
      "The motif TTTA occurs 2 times in the sequence\n",
      "The motif TTAT occurs 2 times in the sequence\n"
     ]
    }
   ],
   "source": [
    "#initialise row counter starting from 0 \n",
    "row = 0\n",
    "\n",
    "#cycle through motifs in dictionary listening them in order from most common to 10th most common\n",
    "for motif in sorted(occ.keys(), key = lambda x : occ[x], reverse = True): \n",
    "    print(f'The motif {motif} occurs {occ[motif]} time{\"\" if occ[motif]==1 else \"s\"} in the sequence')\n",
    "    \n",
    "    #increment the row number by one\n",
    "    row += 1 \n",
    "    \n",
    "    #when you have listed 10 motifs, stop the loop to stop list\n",
    "    if row > how_common-1: \n",
    "        break "
   ]
  }
 ],
 "metadata": {
  "kernelspec": {
   "display_name": "Python 3",
   "language": "python",
   "name": "python3"
  },
  "language_info": {
   "codemirror_mode": {
    "name": "ipython",
    "version": 3
   },
   "file_extension": ".py",
   "mimetype": "text/x-python",
   "name": "python",
   "nbconvert_exporter": "python",
   "pygments_lexer": "ipython3",
   "version": "3.6.9"
  }
 },
 "nbformat": 4,
 "nbformat_minor": 4
}
